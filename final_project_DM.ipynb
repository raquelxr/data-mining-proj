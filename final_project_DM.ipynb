{
 "cells": [
  {
   "cell_type": "markdown",
   "metadata": {},
   "source": [
    "# Customer Segmentation for a Sports Facility"
   ]
  },
  {
   "cell_type": "markdown",
   "metadata": {},
   "source": [
    "<div class=\"alert alert-block alert-info\">\n",
    "\n",
    "[1. Objectives](#1st-bullet)<br>\n",
    "[2. Import Data/Libraries](#2nd-bullet)<br>  \n",
    "[3. Data Exploration](#3rd-bullet)<br>  \n",
    "[4. Data Visualization](#4th-bullet)<br> \n",
    "\n",
    "</div>"
   ]
  },
  {
   "cell_type": "markdown",
   "metadata": {},
   "source": [
    "<div class=\"alert alert-block alert-success\">\n",
    "\n",
    "<a class=\"anchor\" id=\"1st-bullet\">    </a>\n",
    "## 1. Objectives \n",
    "</div>"
   ]
  },
  {
   "cell_type": "markdown",
   "metadata": {},
   "source": [
    "1. Explore the data and identify the variables that should be used to segment customers.\n",
    "2. Identify customer segments\n",
    "3. Justify the number of clusters chosen (taking in consideration the business use as well).\n",
    "4. Explain the clusters found.\n",
    "5. Suggest business applications for the findings and define general marketing approaches for each cluster.\n"
   ]
  },
  {
   "cell_type": "markdown",
   "metadata": {},
   "source": [
    "<div class=\"alert alert-block alert-success\">\n",
    "\n",
    "<a class=\"anchor\" id=\"2nd-bullet\">    </a>\n",
    "## 2. Import Libraries/Data\n",
    "</div>"
   ]
  },
  {
   "cell_type": "code",
   "execution_count": 3,
   "metadata": {},
   "outputs": [],
   "source": [
    "import pandas as pd\n",
    "import datetime as dt\n",
    "import numpy as np"
   ]
  },
  {
   "cell_type": "code",
   "execution_count": 4,
   "metadata": {},
   "outputs": [],
   "source": [
    "data = pd.read_csv('XYZ_sports_dataset.csv', sep =';') "
   ]
  },
  {
   "cell_type": "markdown",
   "metadata": {},
   "source": [
    "<div class=\"alert alert-block alert-success\">\n",
    "\n",
    "<a class=\"anchor\" id=\"3rd-bullet\">    </a>\n",
    "## 3. Data Exploration \n",
    "</div>"
   ]
  },
  {
   "cell_type": "code",
   "execution_count": 5,
   "metadata": {},
   "outputs": [
    {
     "data": {
      "text/html": [
       "<div>\n",
       "<style scoped>\n",
       "    .dataframe tbody tr th:only-of-type {\n",
       "        vertical-align: middle;\n",
       "    }\n",
       "\n",
       "    .dataframe tbody tr th {\n",
       "        vertical-align: top;\n",
       "    }\n",
       "\n",
       "    .dataframe thead th {\n",
       "        text-align: right;\n",
       "    }\n",
       "</style>\n",
       "<table border=\"1\" class=\"dataframe\">\n",
       "  <thead>\n",
       "    <tr style=\"text-align: right;\">\n",
       "      <th></th>\n",
       "      <th>ID</th>\n",
       "      <th>Age</th>\n",
       "      <th>Gender</th>\n",
       "      <th>Income</th>\n",
       "      <th>EnrollmentStart</th>\n",
       "      <th>EnrollmentFinish</th>\n",
       "      <th>LastPeriodStart</th>\n",
       "      <th>LastPeriodFinish</th>\n",
       "      <th>DateLastVisit</th>\n",
       "      <th>DaysWithoutFrequency</th>\n",
       "      <th>...</th>\n",
       "      <th>OtherActivities</th>\n",
       "      <th>NumberOfFrequencies</th>\n",
       "      <th>AttendedClasses</th>\n",
       "      <th>AllowedWeeklyVisitsBySLA</th>\n",
       "      <th>AllowedNumberOfVisitsBySLA</th>\n",
       "      <th>RealNumberOfVisits</th>\n",
       "      <th>NumberOfRenewals</th>\n",
       "      <th>HasReferences</th>\n",
       "      <th>NumberOfReferences</th>\n",
       "      <th>Dropout</th>\n",
       "    </tr>\n",
       "  </thead>\n",
       "  <tbody>\n",
       "    <tr>\n",
       "      <th>0</th>\n",
       "      <td>10000</td>\n",
       "      <td>60</td>\n",
       "      <td>Female</td>\n",
       "      <td>5500.0</td>\n",
       "      <td>2019-09-03</td>\n",
       "      <td>2019-10-31</td>\n",
       "      <td>2019-07-01</td>\n",
       "      <td>2019-12-31</td>\n",
       "      <td>2019-10-30</td>\n",
       "      <td>1</td>\n",
       "      <td>...</td>\n",
       "      <td>0.0</td>\n",
       "      <td>9.0</td>\n",
       "      <td>7</td>\n",
       "      <td>NaN</td>\n",
       "      <td>6.28</td>\n",
       "      <td>2</td>\n",
       "      <td>0</td>\n",
       "      <td>0.0</td>\n",
       "      <td>0</td>\n",
       "      <td>0</td>\n",
       "    </tr>\n",
       "    <tr>\n",
       "      <th>1</th>\n",
       "      <td>10001</td>\n",
       "      <td>29</td>\n",
       "      <td>Female</td>\n",
       "      <td>2630.0</td>\n",
       "      <td>2014-08-12</td>\n",
       "      <td>2015-09-14</td>\n",
       "      <td>2015-01-01</td>\n",
       "      <td>2015-12-31</td>\n",
       "      <td>2015-07-16</td>\n",
       "      <td>60</td>\n",
       "      <td>...</td>\n",
       "      <td>0.0</td>\n",
       "      <td>23.0</td>\n",
       "      <td>1</td>\n",
       "      <td>2.0</td>\n",
       "      <td>17.42</td>\n",
       "      <td>1</td>\n",
       "      <td>2</td>\n",
       "      <td>0.0</td>\n",
       "      <td>0</td>\n",
       "      <td>1</td>\n",
       "    </tr>\n",
       "    <tr>\n",
       "      <th>2</th>\n",
       "      <td>10002</td>\n",
       "      <td>23</td>\n",
       "      <td>Male</td>\n",
       "      <td>1980.0</td>\n",
       "      <td>2017-05-02</td>\n",
       "      <td>2017-06-01</td>\n",
       "      <td>2017-01-01</td>\n",
       "      <td>2017-06-30</td>\n",
       "      <td>2017-05-25</td>\n",
       "      <td>7</td>\n",
       "      <td>...</td>\n",
       "      <td>0.0</td>\n",
       "      <td>6.0</td>\n",
       "      <td>0</td>\n",
       "      <td>7.0</td>\n",
       "      <td>30.03</td>\n",
       "      <td>6</td>\n",
       "      <td>0</td>\n",
       "      <td>0.0</td>\n",
       "      <td>0</td>\n",
       "      <td>1</td>\n",
       "    </tr>\n",
       "    <tr>\n",
       "      <th>3</th>\n",
       "      <td>10003</td>\n",
       "      <td>9</td>\n",
       "      <td>Male</td>\n",
       "      <td>0.0</td>\n",
       "      <td>2018-09-05</td>\n",
       "      <td>2019-02-12</td>\n",
       "      <td>2018-07-01</td>\n",
       "      <td>2019-06-30</td>\n",
       "      <td>2019-01-21</td>\n",
       "      <td>22</td>\n",
       "      <td>...</td>\n",
       "      <td>0.0</td>\n",
       "      <td>20.0</td>\n",
       "      <td>2</td>\n",
       "      <td>2.0</td>\n",
       "      <td>17.72</td>\n",
       "      <td>3</td>\n",
       "      <td>0</td>\n",
       "      <td>0.0</td>\n",
       "      <td>0</td>\n",
       "      <td>1</td>\n",
       "    </tr>\n",
       "    <tr>\n",
       "      <th>4</th>\n",
       "      <td>10004</td>\n",
       "      <td>35</td>\n",
       "      <td>Male</td>\n",
       "      <td>4320.0</td>\n",
       "      <td>2016-04-20</td>\n",
       "      <td>2018-06-07</td>\n",
       "      <td>2018-01-01</td>\n",
       "      <td>2018-06-30</td>\n",
       "      <td>2017-11-09</td>\n",
       "      <td>210</td>\n",
       "      <td>...</td>\n",
       "      <td>NaN</td>\n",
       "      <td>41.0</td>\n",
       "      <td>0</td>\n",
       "      <td>7.0</td>\n",
       "      <td>60.97</td>\n",
       "      <td>0</td>\n",
       "      <td>3</td>\n",
       "      <td>0.0</td>\n",
       "      <td>0</td>\n",
       "      <td>1</td>\n",
       "    </tr>\n",
       "  </tbody>\n",
       "</table>\n",
       "<p>5 rows × 31 columns</p>\n",
       "</div>"
      ],
      "text/plain": [
       "      ID  Age  Gender  Income EnrollmentStart EnrollmentFinish  \\\n",
       "0  10000   60  Female  5500.0      2019-09-03       2019-10-31   \n",
       "1  10001   29  Female  2630.0      2014-08-12       2015-09-14   \n",
       "2  10002   23    Male  1980.0      2017-05-02       2017-06-01   \n",
       "3  10003    9    Male     0.0      2018-09-05       2019-02-12   \n",
       "4  10004   35    Male  4320.0      2016-04-20       2018-06-07   \n",
       "\n",
       "  LastPeriodStart LastPeriodFinish DateLastVisit  DaysWithoutFrequency  ...  \\\n",
       "0      2019-07-01       2019-12-31    2019-10-30                     1  ...   \n",
       "1      2015-01-01       2015-12-31    2015-07-16                    60  ...   \n",
       "2      2017-01-01       2017-06-30    2017-05-25                     7  ...   \n",
       "3      2018-07-01       2019-06-30    2019-01-21                    22  ...   \n",
       "4      2018-01-01       2018-06-30    2017-11-09                   210  ...   \n",
       "\n",
       "   OtherActivities  NumberOfFrequencies  AttendedClasses  \\\n",
       "0              0.0                  9.0                7   \n",
       "1              0.0                 23.0                1   \n",
       "2              0.0                  6.0                0   \n",
       "3              0.0                 20.0                2   \n",
       "4              NaN                 41.0                0   \n",
       "\n",
       "   AllowedWeeklyVisitsBySLA  AllowedNumberOfVisitsBySLA  RealNumberOfVisits  \\\n",
       "0                       NaN                        6.28                   2   \n",
       "1                       2.0                       17.42                   1   \n",
       "2                       7.0                       30.03                   6   \n",
       "3                       2.0                       17.72                   3   \n",
       "4                       7.0                       60.97                   0   \n",
       "\n",
       "   NumberOfRenewals  HasReferences  NumberOfReferences  Dropout  \n",
       "0                 0            0.0                   0        0  \n",
       "1                 2            0.0                   0        1  \n",
       "2                 0            0.0                   0        1  \n",
       "3                 0            0.0                   0        1  \n",
       "4                 3            0.0                   0        1  \n",
       "\n",
       "[5 rows x 31 columns]"
      ]
     },
     "execution_count": 5,
     "metadata": {},
     "output_type": "execute_result"
    }
   ],
   "source": [
    "data.head()"
   ]
  },
  {
   "cell_type": "markdown",
   "metadata": {},
   "source": [
    "It is easily noted that our data contains missing values encoded as NaN."
   ]
  },
  {
   "cell_type": "markdown",
   "metadata": {},
   "source": [
    "#### Data Types:"
   ]
  },
  {
   "cell_type": "code",
   "execution_count": 6,
   "metadata": {},
   "outputs": [
    {
     "data": {
      "text/plain": [
       "('EnrollmentStart',\n",
       " 'EnrollmentFinish',\n",
       " 'LastPeriodStart',\n",
       " 'LastPeriodFinish',\n",
       " 'DateLastVisit')"
      ]
     },
     "execution_count": 6,
     "metadata": {},
     "output_type": "execute_result"
    }
   ],
   "source": [
    "'Age','Income','DaysWithoutFrequency','LifetimeValue','NumberOfFrequencies', 'AttendedClasses', 'AllowedWeeklyVisitsBySLA', 'AllowedNumberOfVisitsBySLA','RealNumberOfVisits','NumberOfRenewals','NumberOfReferences'\n",
    "'EnrollmentStart','EnrollmentFinish','LastPeriodStart','LastPeriodFinish','DateLastVisit'"
   ]
  },
  {
   "cell_type": "code",
   "execution_count": 7,
   "metadata": {},
   "outputs": [
    {
     "data": {
      "text/plain": [
       "ID                              int64\n",
       "Age                             int64\n",
       "Gender                         object\n",
       "Income                        float64\n",
       "EnrollmentStart                object\n",
       "EnrollmentFinish               object\n",
       "LastPeriodStart                object\n",
       "LastPeriodFinish               object\n",
       "DateLastVisit                  object\n",
       "DaysWithoutFrequency            int64\n",
       "LifetimeValue                 float64\n",
       "UseByTime                       int64\n",
       "AthleticsActivities           float64\n",
       "WaterActivities               float64\n",
       "FitnessActivities             float64\n",
       "DanceActivities               float64\n",
       "TeamActivities                float64\n",
       "RacketActivities              float64\n",
       "CombatActivities              float64\n",
       "NatureActivities              float64\n",
       "SpecialActivities             float64\n",
       "OtherActivities               float64\n",
       "NumberOfFrequencies           float64\n",
       "AttendedClasses                 int64\n",
       "AllowedWeeklyVisitsBySLA      float64\n",
       "AllowedNumberOfVisitsBySLA    float64\n",
       "RealNumberOfVisits              int64\n",
       "NumberOfRenewals                int64\n",
       "HasReferences                 float64\n",
       "NumberOfReferences              int64\n",
       "Dropout                         int64\n",
       "dtype: object"
      ]
     },
     "execution_count": 7,
     "metadata": {},
     "output_type": "execute_result"
    }
   ],
   "source": [
    "data.dtypes"
   ]
  },
  {
   "cell_type": "markdown",
   "metadata": {},
   "source": [
    "- Date objects could be turned into a datetime type for easier manipulation and interpretation.\n",
    "- Binary variables are all int/float types. **should they be boolean?**"
   ]
  },
  {
   "cell_type": "markdown",
   "metadata": {},
   "source": [
    "#### Missing Values:"
   ]
  },
  {
   "cell_type": "code",
   "execution_count": 8,
   "metadata": {},
   "outputs": [
    {
     "data": {
      "text/plain": [
       "Income                      495\n",
       "AthleticsActivities          36\n",
       "WaterActivities              37\n",
       "FitnessActivities            35\n",
       "DanceActivities              36\n",
       "TeamActivities               35\n",
       "RacketActivities             37\n",
       "CombatActivities             33\n",
       "NatureActivities             47\n",
       "SpecialActivities            44\n",
       "OtherActivities              35\n",
       "NumberOfFrequencies          26\n",
       "AllowedWeeklyVisitsBySLA    535\n",
       "HasReferences                12\n",
       "dtype: int64"
      ]
     },
     "execution_count": 8,
     "metadata": {},
     "output_type": "execute_result"
    }
   ],
   "source": [
    "data.isna().sum()[data.isna().sum()!=0]"
   ]
  },
  {
   "cell_type": "markdown",
   "metadata": {},
   "source": [
    "There are some missing values that need to be adressed during the detailed exploration of each variable."
   ]
  },
  {
   "cell_type": "markdown",
   "metadata": {},
   "source": [
    "#### Duplicated"
   ]
  },
  {
   "cell_type": "code",
   "execution_count": 9,
   "metadata": {},
   "outputs": [
    {
     "data": {
      "text/plain": [
       "0"
      ]
     },
     "execution_count": 9,
     "metadata": {},
     "output_type": "execute_result"
    }
   ],
   "source": [
    "data.duplicated().sum()"
   ]
  },
  {
   "cell_type": "markdown",
   "metadata": {},
   "source": [
    "There are no duplicated clients."
   ]
  },
  {
   "cell_type": "markdown",
   "metadata": {},
   "source": [
    "#### Descriptive Analysis:"
   ]
  },
  {
   "cell_type": "code",
   "execution_count": 10,
   "metadata": {},
   "outputs": [
    {
     "data": {
      "text/html": [
       "<div>\n",
       "<style scoped>\n",
       "    .dataframe tbody tr th:only-of-type {\n",
       "        vertical-align: middle;\n",
       "    }\n",
       "\n",
       "    .dataframe tbody tr th {\n",
       "        vertical-align: top;\n",
       "    }\n",
       "\n",
       "    .dataframe thead th {\n",
       "        text-align: right;\n",
       "    }\n",
       "</style>\n",
       "<table border=\"1\" class=\"dataframe\">\n",
       "  <thead>\n",
       "    <tr style=\"text-align: right;\">\n",
       "      <th></th>\n",
       "      <th>count</th>\n",
       "      <th>unique</th>\n",
       "      <th>top</th>\n",
       "      <th>freq</th>\n",
       "      <th>mean</th>\n",
       "      <th>std</th>\n",
       "      <th>min</th>\n",
       "      <th>25%</th>\n",
       "      <th>50%</th>\n",
       "      <th>75%</th>\n",
       "      <th>max</th>\n",
       "    </tr>\n",
       "  </thead>\n",
       "  <tbody>\n",
       "    <tr>\n",
       "      <th>ID</th>\n",
       "      <td>14942.0</td>\n",
       "      <td>NaN</td>\n",
       "      <td>NaN</td>\n",
       "      <td>NaN</td>\n",
       "      <td>17470.5</td>\n",
       "      <td>4313.528196</td>\n",
       "      <td>10000.0</td>\n",
       "      <td>13735.25</td>\n",
       "      <td>17470.5</td>\n",
       "      <td>21205.75</td>\n",
       "      <td>24941.0</td>\n",
       "    </tr>\n",
       "    <tr>\n",
       "      <th>Age</th>\n",
       "      <td>14942.0</td>\n",
       "      <td>NaN</td>\n",
       "      <td>NaN</td>\n",
       "      <td>NaN</td>\n",
       "      <td>26.015794</td>\n",
       "      <td>14.156582</td>\n",
       "      <td>0.0</td>\n",
       "      <td>19.0</td>\n",
       "      <td>23.0</td>\n",
       "      <td>31.0</td>\n",
       "      <td>87.0</td>\n",
       "    </tr>\n",
       "    <tr>\n",
       "      <th>Gender</th>\n",
       "      <td>14942</td>\n",
       "      <td>2</td>\n",
       "      <td>Female</td>\n",
       "      <td>8931</td>\n",
       "      <td>NaN</td>\n",
       "      <td>NaN</td>\n",
       "      <td>NaN</td>\n",
       "      <td>NaN</td>\n",
       "      <td>NaN</td>\n",
       "      <td>NaN</td>\n",
       "      <td>NaN</td>\n",
       "    </tr>\n",
       "    <tr>\n",
       "      <th>Income</th>\n",
       "      <td>14447.0</td>\n",
       "      <td>NaN</td>\n",
       "      <td>NaN</td>\n",
       "      <td>NaN</td>\n",
       "      <td>2230.816086</td>\n",
       "      <td>1566.527734</td>\n",
       "      <td>0.0</td>\n",
       "      <td>1470.0</td>\n",
       "      <td>1990.0</td>\n",
       "      <td>2790.0</td>\n",
       "      <td>10890.0</td>\n",
       "    </tr>\n",
       "    <tr>\n",
       "      <th>EnrollmentStart</th>\n",
       "      <td>14942</td>\n",
       "      <td>1490</td>\n",
       "      <td>2015-03-02</td>\n",
       "      <td>92</td>\n",
       "      <td>NaN</td>\n",
       "      <td>NaN</td>\n",
       "      <td>NaN</td>\n",
       "      <td>NaN</td>\n",
       "      <td>NaN</td>\n",
       "      <td>NaN</td>\n",
       "      <td>NaN</td>\n",
       "    </tr>\n",
       "    <tr>\n",
       "      <th>EnrollmentFinish</th>\n",
       "      <td>14942</td>\n",
       "      <td>1300</td>\n",
       "      <td>2015-09-16</td>\n",
       "      <td>1684</td>\n",
       "      <td>NaN</td>\n",
       "      <td>NaN</td>\n",
       "      <td>NaN</td>\n",
       "      <td>NaN</td>\n",
       "      <td>NaN</td>\n",
       "      <td>NaN</td>\n",
       "      <td>NaN</td>\n",
       "    </tr>\n",
       "    <tr>\n",
       "      <th>LastPeriodStart</th>\n",
       "      <td>14942</td>\n",
       "      <td>12</td>\n",
       "      <td>2019-07-01</td>\n",
       "      <td>3172</td>\n",
       "      <td>NaN</td>\n",
       "      <td>NaN</td>\n",
       "      <td>NaN</td>\n",
       "      <td>NaN</td>\n",
       "      <td>NaN</td>\n",
       "      <td>NaN</td>\n",
       "      <td>NaN</td>\n",
       "    </tr>\n",
       "    <tr>\n",
       "      <th>LastPeriodFinish</th>\n",
       "      <td>14942</td>\n",
       "      <td>11</td>\n",
       "      <td>2019-12-31</td>\n",
       "      <td>3694</td>\n",
       "      <td>NaN</td>\n",
       "      <td>NaN</td>\n",
       "      <td>NaN</td>\n",
       "      <td>NaN</td>\n",
       "      <td>NaN</td>\n",
       "      <td>NaN</td>\n",
       "      <td>NaN</td>\n",
       "    </tr>\n",
       "    <tr>\n",
       "      <th>DateLastVisit</th>\n",
       "      <td>14942</td>\n",
       "      <td>1384</td>\n",
       "      <td>2019-10-31</td>\n",
       "      <td>475</td>\n",
       "      <td>NaN</td>\n",
       "      <td>NaN</td>\n",
       "      <td>NaN</td>\n",
       "      <td>NaN</td>\n",
       "      <td>NaN</td>\n",
       "      <td>NaN</td>\n",
       "      <td>NaN</td>\n",
       "    </tr>\n",
       "    <tr>\n",
       "      <th>DaysWithoutFrequency</th>\n",
       "      <td>14942.0</td>\n",
       "      <td>NaN</td>\n",
       "      <td>NaN</td>\n",
       "      <td>NaN</td>\n",
       "      <td>81.224936</td>\n",
       "      <td>144.199576</td>\n",
       "      <td>0.0</td>\n",
       "      <td>13.0</td>\n",
       "      <td>41.0</td>\n",
       "      <td>83.75</td>\n",
       "      <td>1745.0</td>\n",
       "    </tr>\n",
       "    <tr>\n",
       "      <th>LifetimeValue</th>\n",
       "      <td>14942.0</td>\n",
       "      <td>NaN</td>\n",
       "      <td>NaN</td>\n",
       "      <td>NaN</td>\n",
       "      <td>302.561871</td>\n",
       "      <td>364.319566</td>\n",
       "      <td>0.0</td>\n",
       "      <td>83.6</td>\n",
       "      <td>166.2</td>\n",
       "      <td>355.075</td>\n",
       "      <td>6727.8</td>\n",
       "    </tr>\n",
       "    <tr>\n",
       "      <th>UseByTime</th>\n",
       "      <td>14942.0</td>\n",
       "      <td>NaN</td>\n",
       "      <td>NaN</td>\n",
       "      <td>NaN</td>\n",
       "      <td>0.047116</td>\n",
       "      <td>0.211893</td>\n",
       "      <td>0.0</td>\n",
       "      <td>0.0</td>\n",
       "      <td>0.0</td>\n",
       "      <td>0.0</td>\n",
       "      <td>1.0</td>\n",
       "    </tr>\n",
       "    <tr>\n",
       "      <th>AthleticsActivities</th>\n",
       "      <td>14906.0</td>\n",
       "      <td>NaN</td>\n",
       "      <td>NaN</td>\n",
       "      <td>NaN</td>\n",
       "      <td>0.00738</td>\n",
       "      <td>0.08559</td>\n",
       "      <td>0.0</td>\n",
       "      <td>0.0</td>\n",
       "      <td>0.0</td>\n",
       "      <td>0.0</td>\n",
       "      <td>1.0</td>\n",
       "    </tr>\n",
       "    <tr>\n",
       "      <th>WaterActivities</th>\n",
       "      <td>14905.0</td>\n",
       "      <td>NaN</td>\n",
       "      <td>NaN</td>\n",
       "      <td>NaN</td>\n",
       "      <td>0.296209</td>\n",
       "      <td>0.4566</td>\n",
       "      <td>0.0</td>\n",
       "      <td>0.0</td>\n",
       "      <td>0.0</td>\n",
       "      <td>1.0</td>\n",
       "      <td>1.0</td>\n",
       "    </tr>\n",
       "    <tr>\n",
       "      <th>FitnessActivities</th>\n",
       "      <td>14907.0</td>\n",
       "      <td>NaN</td>\n",
       "      <td>NaN</td>\n",
       "      <td>NaN</td>\n",
       "      <td>0.576038</td>\n",
       "      <td>0.494201</td>\n",
       "      <td>0.0</td>\n",
       "      <td>0.0</td>\n",
       "      <td>1.0</td>\n",
       "      <td>1.0</td>\n",
       "      <td>1.0</td>\n",
       "    </tr>\n",
       "    <tr>\n",
       "      <th>DanceActivities</th>\n",
       "      <td>14906.0</td>\n",
       "      <td>NaN</td>\n",
       "      <td>NaN</td>\n",
       "      <td>NaN</td>\n",
       "      <td>0.0</td>\n",
       "      <td>0.0</td>\n",
       "      <td>0.0</td>\n",
       "      <td>0.0</td>\n",
       "      <td>0.0</td>\n",
       "      <td>0.0</td>\n",
       "      <td>0.0</td>\n",
       "    </tr>\n",
       "    <tr>\n",
       "      <th>TeamActivities</th>\n",
       "      <td>14907.0</td>\n",
       "      <td>NaN</td>\n",
       "      <td>NaN</td>\n",
       "      <td>NaN</td>\n",
       "      <td>0.055544</td>\n",
       "      <td>0.229047</td>\n",
       "      <td>0.0</td>\n",
       "      <td>0.0</td>\n",
       "      <td>0.0</td>\n",
       "      <td>0.0</td>\n",
       "      <td>1.0</td>\n",
       "    </tr>\n",
       "    <tr>\n",
       "      <th>RacketActivities</th>\n",
       "      <td>14905.0</td>\n",
       "      <td>NaN</td>\n",
       "      <td>NaN</td>\n",
       "      <td>NaN</td>\n",
       "      <td>0.023415</td>\n",
       "      <td>0.151222</td>\n",
       "      <td>0.0</td>\n",
       "      <td>0.0</td>\n",
       "      <td>0.0</td>\n",
       "      <td>0.0</td>\n",
       "      <td>1.0</td>\n",
       "    </tr>\n",
       "    <tr>\n",
       "      <th>CombatActivities</th>\n",
       "      <td>14909.0</td>\n",
       "      <td>NaN</td>\n",
       "      <td>NaN</td>\n",
       "      <td>NaN</td>\n",
       "      <td>0.107921</td>\n",
       "      <td>0.310292</td>\n",
       "      <td>0.0</td>\n",
       "      <td>0.0</td>\n",
       "      <td>0.0</td>\n",
       "      <td>0.0</td>\n",
       "      <td>1.0</td>\n",
       "    </tr>\n",
       "    <tr>\n",
       "      <th>NatureActivities</th>\n",
       "      <td>14895.0</td>\n",
       "      <td>NaN</td>\n",
       "      <td>NaN</td>\n",
       "      <td>NaN</td>\n",
       "      <td>0.0</td>\n",
       "      <td>0.0</td>\n",
       "      <td>0.0</td>\n",
       "      <td>0.0</td>\n",
       "      <td>0.0</td>\n",
       "      <td>0.0</td>\n",
       "      <td>0.0</td>\n",
       "    </tr>\n",
       "    <tr>\n",
       "      <th>SpecialActivities</th>\n",
       "      <td>14898.0</td>\n",
       "      <td>NaN</td>\n",
       "      <td>NaN</td>\n",
       "      <td>NaN</td>\n",
       "      <td>0.026514</td>\n",
       "      <td>0.160662</td>\n",
       "      <td>0.0</td>\n",
       "      <td>0.0</td>\n",
       "      <td>0.0</td>\n",
       "      <td>0.0</td>\n",
       "      <td>1.0</td>\n",
       "    </tr>\n",
       "    <tr>\n",
       "      <th>OtherActivities</th>\n",
       "      <td>14907.0</td>\n",
       "      <td>NaN</td>\n",
       "      <td>NaN</td>\n",
       "      <td>NaN</td>\n",
       "      <td>0.001878</td>\n",
       "      <td>0.0433</td>\n",
       "      <td>0.0</td>\n",
       "      <td>0.0</td>\n",
       "      <td>0.0</td>\n",
       "      <td>0.0</td>\n",
       "      <td>1.0</td>\n",
       "    </tr>\n",
       "    <tr>\n",
       "      <th>NumberOfFrequencies</th>\n",
       "      <td>14916.0</td>\n",
       "      <td>NaN</td>\n",
       "      <td>NaN</td>\n",
       "      <td>NaN</td>\n",
       "      <td>40.120542</td>\n",
       "      <td>65.466459</td>\n",
       "      <td>1.0</td>\n",
       "      <td>7.0</td>\n",
       "      <td>18.0</td>\n",
       "      <td>45.0</td>\n",
       "      <td>1031.0</td>\n",
       "    </tr>\n",
       "    <tr>\n",
       "      <th>AttendedClasses</th>\n",
       "      <td>14942.0</td>\n",
       "      <td>NaN</td>\n",
       "      <td>NaN</td>\n",
       "      <td>NaN</td>\n",
       "      <td>10.152456</td>\n",
       "      <td>29.154202</td>\n",
       "      <td>0.0</td>\n",
       "      <td>0.0</td>\n",
       "      <td>0.0</td>\n",
       "      <td>3.0</td>\n",
       "      <td>581.0</td>\n",
       "    </tr>\n",
       "    <tr>\n",
       "      <th>AllowedWeeklyVisitsBySLA</th>\n",
       "      <td>14407.0</td>\n",
       "      <td>NaN</td>\n",
       "      <td>NaN</td>\n",
       "      <td>NaN</td>\n",
       "      <td>5.759561</td>\n",
       "      <td>2.118867</td>\n",
       "      <td>1.0</td>\n",
       "      <td>4.0</td>\n",
       "      <td>7.0</td>\n",
       "      <td>7.0</td>\n",
       "      <td>7.0</td>\n",
       "    </tr>\n",
       "    <tr>\n",
       "      <th>AllowedNumberOfVisitsBySLA</th>\n",
       "      <td>14942.0</td>\n",
       "      <td>NaN</td>\n",
       "      <td>NaN</td>\n",
       "      <td>NaN</td>\n",
       "      <td>41.636299</td>\n",
       "      <td>21.066166</td>\n",
       "      <td>0.56</td>\n",
       "      <td>25.72</td>\n",
       "      <td>38.99</td>\n",
       "      <td>60.97</td>\n",
       "      <td>240.03</td>\n",
       "    </tr>\n",
       "    <tr>\n",
       "      <th>RealNumberOfVisits</th>\n",
       "      <td>14942.0</td>\n",
       "      <td>NaN</td>\n",
       "      <td>NaN</td>\n",
       "      <td>NaN</td>\n",
       "      <td>5.320707</td>\n",
       "      <td>6.332958</td>\n",
       "      <td>0.0</td>\n",
       "      <td>1.0</td>\n",
       "      <td>4.0</td>\n",
       "      <td>7.0</td>\n",
       "      <td>84.0</td>\n",
       "    </tr>\n",
       "    <tr>\n",
       "      <th>NumberOfRenewals</th>\n",
       "      <td>14942.0</td>\n",
       "      <td>NaN</td>\n",
       "      <td>NaN</td>\n",
       "      <td>NaN</td>\n",
       "      <td>1.20526</td>\n",
       "      <td>1.381305</td>\n",
       "      <td>0.0</td>\n",
       "      <td>0.0</td>\n",
       "      <td>1.0</td>\n",
       "      <td>2.0</td>\n",
       "      <td>6.0</td>\n",
       "    </tr>\n",
       "    <tr>\n",
       "      <th>HasReferences</th>\n",
       "      <td>14930.0</td>\n",
       "      <td>NaN</td>\n",
       "      <td>NaN</td>\n",
       "      <td>NaN</td>\n",
       "      <td>0.019893</td>\n",
       "      <td>0.139637</td>\n",
       "      <td>0.0</td>\n",
       "      <td>0.0</td>\n",
       "      <td>0.0</td>\n",
       "      <td>0.0</td>\n",
       "      <td>1.0</td>\n",
       "    </tr>\n",
       "    <tr>\n",
       "      <th>NumberOfReferences</th>\n",
       "      <td>14942.0</td>\n",
       "      <td>NaN</td>\n",
       "      <td>NaN</td>\n",
       "      <td>NaN</td>\n",
       "      <td>0.022286</td>\n",
       "      <td>0.166777</td>\n",
       "      <td>0.0</td>\n",
       "      <td>0.0</td>\n",
       "      <td>0.0</td>\n",
       "      <td>0.0</td>\n",
       "      <td>3.0</td>\n",
       "    </tr>\n",
       "    <tr>\n",
       "      <th>Dropout</th>\n",
       "      <td>14942.0</td>\n",
       "      <td>NaN</td>\n",
       "      <td>NaN</td>\n",
       "      <td>NaN</td>\n",
       "      <td>0.800964</td>\n",
       "      <td>0.399289</td>\n",
       "      <td>0.0</td>\n",
       "      <td>1.0</td>\n",
       "      <td>1.0</td>\n",
       "      <td>1.0</td>\n",
       "      <td>1.0</td>\n",
       "    </tr>\n",
       "  </tbody>\n",
       "</table>\n",
       "</div>"
      ],
      "text/plain": [
       "                              count unique         top  freq         mean  \\\n",
       "ID                          14942.0    NaN         NaN   NaN      17470.5   \n",
       "Age                         14942.0    NaN         NaN   NaN    26.015794   \n",
       "Gender                        14942      2      Female  8931          NaN   \n",
       "Income                      14447.0    NaN         NaN   NaN  2230.816086   \n",
       "EnrollmentStart               14942   1490  2015-03-02    92          NaN   \n",
       "EnrollmentFinish              14942   1300  2015-09-16  1684          NaN   \n",
       "LastPeriodStart               14942     12  2019-07-01  3172          NaN   \n",
       "LastPeriodFinish              14942     11  2019-12-31  3694          NaN   \n",
       "DateLastVisit                 14942   1384  2019-10-31   475          NaN   \n",
       "DaysWithoutFrequency        14942.0    NaN         NaN   NaN    81.224936   \n",
       "LifetimeValue               14942.0    NaN         NaN   NaN   302.561871   \n",
       "UseByTime                   14942.0    NaN         NaN   NaN     0.047116   \n",
       "AthleticsActivities         14906.0    NaN         NaN   NaN      0.00738   \n",
       "WaterActivities             14905.0    NaN         NaN   NaN     0.296209   \n",
       "FitnessActivities           14907.0    NaN         NaN   NaN     0.576038   \n",
       "DanceActivities             14906.0    NaN         NaN   NaN          0.0   \n",
       "TeamActivities              14907.0    NaN         NaN   NaN     0.055544   \n",
       "RacketActivities            14905.0    NaN         NaN   NaN     0.023415   \n",
       "CombatActivities            14909.0    NaN         NaN   NaN     0.107921   \n",
       "NatureActivities            14895.0    NaN         NaN   NaN          0.0   \n",
       "SpecialActivities           14898.0    NaN         NaN   NaN     0.026514   \n",
       "OtherActivities             14907.0    NaN         NaN   NaN     0.001878   \n",
       "NumberOfFrequencies         14916.0    NaN         NaN   NaN    40.120542   \n",
       "AttendedClasses             14942.0    NaN         NaN   NaN    10.152456   \n",
       "AllowedWeeklyVisitsBySLA    14407.0    NaN         NaN   NaN     5.759561   \n",
       "AllowedNumberOfVisitsBySLA  14942.0    NaN         NaN   NaN    41.636299   \n",
       "RealNumberOfVisits          14942.0    NaN         NaN   NaN     5.320707   \n",
       "NumberOfRenewals            14942.0    NaN         NaN   NaN      1.20526   \n",
       "HasReferences               14930.0    NaN         NaN   NaN     0.019893   \n",
       "NumberOfReferences          14942.0    NaN         NaN   NaN     0.022286   \n",
       "Dropout                     14942.0    NaN         NaN   NaN     0.800964   \n",
       "\n",
       "                                    std      min       25%      50%       75%  \\\n",
       "ID                          4313.528196  10000.0  13735.25  17470.5  21205.75   \n",
       "Age                           14.156582      0.0      19.0     23.0      31.0   \n",
       "Gender                              NaN      NaN       NaN      NaN       NaN   \n",
       "Income                      1566.527734      0.0    1470.0   1990.0    2790.0   \n",
       "EnrollmentStart                     NaN      NaN       NaN      NaN       NaN   \n",
       "EnrollmentFinish                    NaN      NaN       NaN      NaN       NaN   \n",
       "LastPeriodStart                     NaN      NaN       NaN      NaN       NaN   \n",
       "LastPeriodFinish                    NaN      NaN       NaN      NaN       NaN   \n",
       "DateLastVisit                       NaN      NaN       NaN      NaN       NaN   \n",
       "DaysWithoutFrequency         144.199576      0.0      13.0     41.0     83.75   \n",
       "LifetimeValue                364.319566      0.0      83.6    166.2   355.075   \n",
       "UseByTime                      0.211893      0.0       0.0      0.0       0.0   \n",
       "AthleticsActivities             0.08559      0.0       0.0      0.0       0.0   \n",
       "WaterActivities                  0.4566      0.0       0.0      0.0       1.0   \n",
       "FitnessActivities              0.494201      0.0       0.0      1.0       1.0   \n",
       "DanceActivities                     0.0      0.0       0.0      0.0       0.0   \n",
       "TeamActivities                 0.229047      0.0       0.0      0.0       0.0   \n",
       "RacketActivities               0.151222      0.0       0.0      0.0       0.0   \n",
       "CombatActivities               0.310292      0.0       0.0      0.0       0.0   \n",
       "NatureActivities                    0.0      0.0       0.0      0.0       0.0   \n",
       "SpecialActivities              0.160662      0.0       0.0      0.0       0.0   \n",
       "OtherActivities                  0.0433      0.0       0.0      0.0       0.0   \n",
       "NumberOfFrequencies           65.466459      1.0       7.0     18.0      45.0   \n",
       "AttendedClasses               29.154202      0.0       0.0      0.0       3.0   \n",
       "AllowedWeeklyVisitsBySLA       2.118867      1.0       4.0      7.0       7.0   \n",
       "AllowedNumberOfVisitsBySLA    21.066166     0.56     25.72    38.99     60.97   \n",
       "RealNumberOfVisits             6.332958      0.0       1.0      4.0       7.0   \n",
       "NumberOfRenewals               1.381305      0.0       0.0      1.0       2.0   \n",
       "HasReferences                  0.139637      0.0       0.0      0.0       0.0   \n",
       "NumberOfReferences             0.166777      0.0       0.0      0.0       0.0   \n",
       "Dropout                        0.399289      0.0       1.0      1.0       1.0   \n",
       "\n",
       "                                max  \n",
       "ID                          24941.0  \n",
       "Age                            87.0  \n",
       "Gender                          NaN  \n",
       "Income                      10890.0  \n",
       "EnrollmentStart                 NaN  \n",
       "EnrollmentFinish                NaN  \n",
       "LastPeriodStart                 NaN  \n",
       "LastPeriodFinish                NaN  \n",
       "DateLastVisit                   NaN  \n",
       "DaysWithoutFrequency         1745.0  \n",
       "LifetimeValue                6727.8  \n",
       "UseByTime                       1.0  \n",
       "AthleticsActivities             1.0  \n",
       "WaterActivities                 1.0  \n",
       "FitnessActivities               1.0  \n",
       "DanceActivities                 0.0  \n",
       "TeamActivities                  1.0  \n",
       "RacketActivities                1.0  \n",
       "CombatActivities                1.0  \n",
       "NatureActivities                0.0  \n",
       "SpecialActivities               1.0  \n",
       "OtherActivities                 1.0  \n",
       "NumberOfFrequencies          1031.0  \n",
       "AttendedClasses               581.0  \n",
       "AllowedWeeklyVisitsBySLA        7.0  \n",
       "AllowedNumberOfVisitsBySLA   240.03  \n",
       "RealNumberOfVisits             84.0  \n",
       "NumberOfRenewals                6.0  \n",
       "HasReferences                   1.0  \n",
       "NumberOfReferences              3.0  \n",
       "Dropout                         1.0  "
      ]
     },
     "execution_count": 10,
     "metadata": {},
     "output_type": "execute_result"
    }
   ],
   "source": [
    "data.describe(include=\"all\").T "
   ]
  },
  {
   "cell_type": "markdown",
   "metadata": {},
   "source": [
    "Looking at the descriptive analysis, some possible problems appear:\n",
    "- For `Age` there seem to be some clients with age 0. The data is also skewed towards younger ages.\n",
    "- For `Income`, some clients have value 0. It also seems like some extreme values appear for high values of income.\n",
    "- The number of unique values shows that `LastPeriodStart` and `LastPeriodFinish` have some form of fixed dates.\n",
    "- `DaysWithoutFrequency`,`LifetimeValue`, `NumberOfFrequencies`, `AttendedClasses`, `AllowedNumberOfVisits` and `RealNumberOfVisits` also seem to have extreme high values."
   ]
  },
  {
   "cell_type": "markdown",
   "metadata": {},
   "source": [
    "### Closer Look At Features:"
   ]
  },
  {
   "cell_type": "markdown",
   "metadata": {},
   "source": [
    "#### ID:"
   ]
  },
  {
   "cell_type": "code",
   "execution_count": 11,
   "metadata": {},
   "outputs": [
    {
     "data": {
      "text/plain": [
       "ID\n",
       "10000    1\n",
       "19966    1\n",
       "19954    1\n",
       "19955    1\n",
       "19956    1\n",
       "        ..\n",
       "14984    1\n",
       "14985    1\n",
       "14986    1\n",
       "14987    1\n",
       "24941    1\n",
       "Name: count, Length: 14942, dtype: int64"
      ]
     },
     "execution_count": 11,
     "metadata": {},
     "output_type": "execute_result"
    }
   ],
   "source": [
    "data['ID'].value_counts()"
   ]
  },
  {
   "cell_type": "markdown",
   "metadata": {},
   "source": [
    "All ID's are unique so we can set it as the index:"
   ]
  },
  {
   "cell_type": "code",
   "execution_count": 12,
   "metadata": {},
   "outputs": [],
   "source": [
    "data.set_index('ID', inplace=True) "
   ]
  },
  {
   "cell_type": "code",
   "execution_count": 13,
   "metadata": {},
   "outputs": [
    {
     "data": {
      "text/plain": [
       "1"
      ]
     },
     "execution_count": 13,
     "metadata": {},
     "output_type": "execute_result"
    }
   ],
   "source": [
    "data.duplicated().sum()"
   ]
  },
  {
   "cell_type": "markdown",
   "metadata": {},
   "source": [
    "We now have one duplicated entry that needs to be removed:"
   ]
  },
  {
   "cell_type": "code",
   "execution_count": 14,
   "metadata": {},
   "outputs": [],
   "source": [
    "data.drop_duplicates(inplace=True)"
   ]
  },
  {
   "cell_type": "markdown",
   "metadata": {},
   "source": [
    "#### Age:"
   ]
  },
  {
   "cell_type": "code",
   "execution_count": 15,
   "metadata": {},
   "outputs": [
    {
     "data": {
      "text/plain": [
       "array([ 0,  1,  2,  3,  4,  5,  6,  7,  8,  9, 10, 11, 12, 13, 14, 15, 16,\n",
       "       17, 18, 19, 20, 21, 22, 23, 24, 25, 26, 27, 28, 29, 30, 31, 32, 33,\n",
       "       34, 35, 36, 37, 38, 39, 40, 41, 42, 43, 44, 45, 46, 47, 48, 49, 50,\n",
       "       51, 52, 53, 54, 55, 56, 57, 58, 59, 60, 61, 62, 63, 64, 65, 66, 67,\n",
       "       68, 69, 70, 71, 72, 73, 74, 75, 76, 77, 78, 79, 80, 81, 82, 83, 84,\n",
       "       85, 86, 87])"
      ]
     },
     "execution_count": 15,
     "metadata": {},
     "output_type": "execute_result"
    }
   ],
   "source": [
    "np.sort(data['Age'].unique())"
   ]
  },
  {
   "cell_type": "markdown",
   "metadata": {},
   "source": [
    "- All age values seem normal for a sport facility.\n",
    "- Special attention to babies (0-3) and other childreen under 16 needs to be taken."
   ]
  },
  {
   "cell_type": "markdown",
   "metadata": {},
   "source": [
    "#### Income:"
   ]
  },
  {
   "cell_type": "markdown",
   "metadata": {},
   "source": [
    "Children under 16 should have no income:"
   ]
  },
  {
   "cell_type": "code",
   "execution_count": 16,
   "metadata": {},
   "outputs": [
    {
     "name": "stderr",
     "output_type": "stream",
     "text": [
      "/var/folders/x6/c7bgz3zn0hg_kdmljrfw7k_m0000gn/T/ipykernel_19479/702331251.py:1: UserWarning: Boolean Series key will be reindexed to match DataFrame index.\n",
      "  data[data['Age']<16][data['Income']!=0]\n"
     ]
    },
    {
     "data": {
      "text/html": [
       "<div>\n",
       "<style scoped>\n",
       "    .dataframe tbody tr th:only-of-type {\n",
       "        vertical-align: middle;\n",
       "    }\n",
       "\n",
       "    .dataframe tbody tr th {\n",
       "        vertical-align: top;\n",
       "    }\n",
       "\n",
       "    .dataframe thead th {\n",
       "        text-align: right;\n",
       "    }\n",
       "</style>\n",
       "<table border=\"1\" class=\"dataframe\">\n",
       "  <thead>\n",
       "    <tr style=\"text-align: right;\">\n",
       "      <th></th>\n",
       "      <th>Age</th>\n",
       "      <th>Gender</th>\n",
       "      <th>Income</th>\n",
       "      <th>EnrollmentStart</th>\n",
       "      <th>EnrollmentFinish</th>\n",
       "      <th>LastPeriodStart</th>\n",
       "      <th>LastPeriodFinish</th>\n",
       "      <th>DateLastVisit</th>\n",
       "      <th>DaysWithoutFrequency</th>\n",
       "      <th>LifetimeValue</th>\n",
       "      <th>...</th>\n",
       "      <th>OtherActivities</th>\n",
       "      <th>NumberOfFrequencies</th>\n",
       "      <th>AttendedClasses</th>\n",
       "      <th>AllowedWeeklyVisitsBySLA</th>\n",
       "      <th>AllowedNumberOfVisitsBySLA</th>\n",
       "      <th>RealNumberOfVisits</th>\n",
       "      <th>NumberOfRenewals</th>\n",
       "      <th>HasReferences</th>\n",
       "      <th>NumberOfReferences</th>\n",
       "      <th>Dropout</th>\n",
       "    </tr>\n",
       "    <tr>\n",
       "      <th>ID</th>\n",
       "      <th></th>\n",
       "      <th></th>\n",
       "      <th></th>\n",
       "      <th></th>\n",
       "      <th></th>\n",
       "      <th></th>\n",
       "      <th></th>\n",
       "      <th></th>\n",
       "      <th></th>\n",
       "      <th></th>\n",
       "      <th></th>\n",
       "      <th></th>\n",
       "      <th></th>\n",
       "      <th></th>\n",
       "      <th></th>\n",
       "      <th></th>\n",
       "      <th></th>\n",
       "      <th></th>\n",
       "      <th></th>\n",
       "      <th></th>\n",
       "      <th></th>\n",
       "    </tr>\n",
       "  </thead>\n",
       "  <tbody>\n",
       "    <tr>\n",
       "      <th>10076</th>\n",
       "      <td>9</td>\n",
       "      <td>Male</td>\n",
       "      <td>NaN</td>\n",
       "      <td>2017-09-16</td>\n",
       "      <td>2017-09-16</td>\n",
       "      <td>2019-07-01</td>\n",
       "      <td>2019-12-31</td>\n",
       "      <td>2019-10-26</td>\n",
       "      <td>5</td>\n",
       "      <td>708.20</td>\n",
       "      <td>...</td>\n",
       "      <td>0.0</td>\n",
       "      <td>64.0</td>\n",
       "      <td>64</td>\n",
       "      <td>2.0</td>\n",
       "      <td>17.42</td>\n",
       "      <td>6</td>\n",
       "      <td>2</td>\n",
       "      <td>0.0</td>\n",
       "      <td>0</td>\n",
       "      <td>0</td>\n",
       "    </tr>\n",
       "    <tr>\n",
       "      <th>10224</th>\n",
       "      <td>7</td>\n",
       "      <td>Male</td>\n",
       "      <td>NaN</td>\n",
       "      <td>2016-04-20</td>\n",
       "      <td>2018-11-11</td>\n",
       "      <td>2018-07-01</td>\n",
       "      <td>2018-12-31</td>\n",
       "      <td>2018-10-25</td>\n",
       "      <td>17</td>\n",
       "      <td>836.60</td>\n",
       "      <td>...</td>\n",
       "      <td>0.0</td>\n",
       "      <td>107.0</td>\n",
       "      <td>91</td>\n",
       "      <td>2.0</td>\n",
       "      <td>11.72</td>\n",
       "      <td>6</td>\n",
       "      <td>3</td>\n",
       "      <td>0.0</td>\n",
       "      <td>0</td>\n",
       "      <td>1</td>\n",
       "    </tr>\n",
       "    <tr>\n",
       "      <th>10226</th>\n",
       "      <td>10</td>\n",
       "      <td>Female</td>\n",
       "      <td>NaN</td>\n",
       "      <td>2016-11-14</td>\n",
       "      <td>2016-11-14</td>\n",
       "      <td>2019-07-01</td>\n",
       "      <td>2019-12-31</td>\n",
       "      <td>2019-10-26</td>\n",
       "      <td>5</td>\n",
       "      <td>1331.55</td>\n",
       "      <td>...</td>\n",
       "      <td>0.0</td>\n",
       "      <td>65.0</td>\n",
       "      <td>47</td>\n",
       "      <td>1.0</td>\n",
       "      <td>8.71</td>\n",
       "      <td>4</td>\n",
       "      <td>3</td>\n",
       "      <td>0.0</td>\n",
       "      <td>0</td>\n",
       "      <td>0</td>\n",
       "    </tr>\n",
       "    <tr>\n",
       "      <th>10261</th>\n",
       "      <td>3</td>\n",
       "      <td>Male</td>\n",
       "      <td>NaN</td>\n",
       "      <td>2017-09-07</td>\n",
       "      <td>2017-09-07</td>\n",
       "      <td>2019-07-01</td>\n",
       "      <td>2019-12-31</td>\n",
       "      <td>2019-10-19</td>\n",
       "      <td>12</td>\n",
       "      <td>1066.40</td>\n",
       "      <td>...</td>\n",
       "      <td>0.0</td>\n",
       "      <td>78.0</td>\n",
       "      <td>62</td>\n",
       "      <td>2.0</td>\n",
       "      <td>17.42</td>\n",
       "      <td>5</td>\n",
       "      <td>2</td>\n",
       "      <td>0.0</td>\n",
       "      <td>0</td>\n",
       "      <td>0</td>\n",
       "    </tr>\n",
       "    <tr>\n",
       "      <th>10295</th>\n",
       "      <td>5</td>\n",
       "      <td>Female</td>\n",
       "      <td>NaN</td>\n",
       "      <td>2015-03-05</td>\n",
       "      <td>2015-03-05</td>\n",
       "      <td>2019-07-01</td>\n",
       "      <td>2019-12-31</td>\n",
       "      <td>2019-09-07</td>\n",
       "      <td>54</td>\n",
       "      <td>286.30</td>\n",
       "      <td>...</td>\n",
       "      <td>0.0</td>\n",
       "      <td>15.0</td>\n",
       "      <td>7</td>\n",
       "      <td>1.0</td>\n",
       "      <td>3.14</td>\n",
       "      <td>0</td>\n",
       "      <td>5</td>\n",
       "      <td>0.0</td>\n",
       "      <td>0</td>\n",
       "      <td>0</td>\n",
       "    </tr>\n",
       "    <tr>\n",
       "      <th>...</th>\n",
       "      <td>...</td>\n",
       "      <td>...</td>\n",
       "      <td>...</td>\n",
       "      <td>...</td>\n",
       "      <td>...</td>\n",
       "      <td>...</td>\n",
       "      <td>...</td>\n",
       "      <td>...</td>\n",
       "      <td>...</td>\n",
       "      <td>...</td>\n",
       "      <td>...</td>\n",
       "      <td>...</td>\n",
       "      <td>...</td>\n",
       "      <td>...</td>\n",
       "      <td>...</td>\n",
       "      <td>...</td>\n",
       "      <td>...</td>\n",
       "      <td>...</td>\n",
       "      <td>...</td>\n",
       "      <td>...</td>\n",
       "      <td>...</td>\n",
       "    </tr>\n",
       "    <tr>\n",
       "      <th>24804</th>\n",
       "      <td>4</td>\n",
       "      <td>Female</td>\n",
       "      <td>NaN</td>\n",
       "      <td>2016-03-05</td>\n",
       "      <td>2016-03-05</td>\n",
       "      <td>2019-07-01</td>\n",
       "      <td>2019-12-31</td>\n",
       "      <td>2019-10-26</td>\n",
       "      <td>5</td>\n",
       "      <td>1656.30</td>\n",
       "      <td>...</td>\n",
       "      <td>0.0</td>\n",
       "      <td>95.0</td>\n",
       "      <td>88</td>\n",
       "      <td>2.0</td>\n",
       "      <td>9.72</td>\n",
       "      <td>3</td>\n",
       "      <td>4</td>\n",
       "      <td>0.0</td>\n",
       "      <td>0</td>\n",
       "      <td>0</td>\n",
       "    </tr>\n",
       "    <tr>\n",
       "      <th>24830</th>\n",
       "      <td>2</td>\n",
       "      <td>Male</td>\n",
       "      <td>2750.0</td>\n",
       "      <td>2018-07-26</td>\n",
       "      <td>2018-07-26</td>\n",
       "      <td>2019-07-01</td>\n",
       "      <td>2019-12-31</td>\n",
       "      <td>2019-10-19</td>\n",
       "      <td>12</td>\n",
       "      <td>773.32</td>\n",
       "      <td>...</td>\n",
       "      <td>0.0</td>\n",
       "      <td>27.0</td>\n",
       "      <td>20</td>\n",
       "      <td>2.0</td>\n",
       "      <td>17.42</td>\n",
       "      <td>8</td>\n",
       "      <td>2</td>\n",
       "      <td>0.0</td>\n",
       "      <td>0</td>\n",
       "      <td>0</td>\n",
       "    </tr>\n",
       "    <tr>\n",
       "      <th>24836</th>\n",
       "      <td>5</td>\n",
       "      <td>Male</td>\n",
       "      <td>NaN</td>\n",
       "      <td>2018-07-02</td>\n",
       "      <td>2018-07-02</td>\n",
       "      <td>2019-07-01</td>\n",
       "      <td>2019-12-31</td>\n",
       "      <td>2019-10-30</td>\n",
       "      <td>1</td>\n",
       "      <td>654.60</td>\n",
       "      <td>...</td>\n",
       "      <td>0.0</td>\n",
       "      <td>20.0</td>\n",
       "      <td>20</td>\n",
       "      <td>2.0</td>\n",
       "      <td>15.42</td>\n",
       "      <td>9</td>\n",
       "      <td>2</td>\n",
       "      <td>0.0</td>\n",
       "      <td>0</td>\n",
       "      <td>0</td>\n",
       "    </tr>\n",
       "    <tr>\n",
       "      <th>24874</th>\n",
       "      <td>15</td>\n",
       "      <td>Male</td>\n",
       "      <td>NaN</td>\n",
       "      <td>2015-11-02</td>\n",
       "      <td>2016-07-31</td>\n",
       "      <td>2016-01-01</td>\n",
       "      <td>2016-12-31</td>\n",
       "      <td>2016-05-30</td>\n",
       "      <td>62</td>\n",
       "      <td>353.60</td>\n",
       "      <td>...</td>\n",
       "      <td>0.0</td>\n",
       "      <td>20.0</td>\n",
       "      <td>17</td>\n",
       "      <td>1.0</td>\n",
       "      <td>8.71</td>\n",
       "      <td>0</td>\n",
       "      <td>0</td>\n",
       "      <td>0.0</td>\n",
       "      <td>0</td>\n",
       "      <td>1</td>\n",
       "    </tr>\n",
       "    <tr>\n",
       "      <th>24930</th>\n",
       "      <td>4</td>\n",
       "      <td>Male</td>\n",
       "      <td>NaN</td>\n",
       "      <td>2017-06-30</td>\n",
       "      <td>2017-11-07</td>\n",
       "      <td>2017-07-01</td>\n",
       "      <td>2017-12-31</td>\n",
       "      <td>2017-09-30</td>\n",
       "      <td>38</td>\n",
       "      <td>77.60</td>\n",
       "      <td>...</td>\n",
       "      <td>0.0</td>\n",
       "      <td>5.0</td>\n",
       "      <td>5</td>\n",
       "      <td>2.0</td>\n",
       "      <td>17.42</td>\n",
       "      <td>7</td>\n",
       "      <td>1</td>\n",
       "      <td>0.0</td>\n",
       "      <td>0</td>\n",
       "      <td>1</td>\n",
       "    </tr>\n",
       "  </tbody>\n",
       "</table>\n",
       "<p>360 rows × 30 columns</p>\n",
       "</div>"
      ],
      "text/plain": [
       "       Age  Gender  Income EnrollmentStart EnrollmentFinish LastPeriodStart  \\\n",
       "ID                                                                            \n",
       "10076    9    Male     NaN      2017-09-16       2017-09-16      2019-07-01   \n",
       "10224    7    Male     NaN      2016-04-20       2018-11-11      2018-07-01   \n",
       "10226   10  Female     NaN      2016-11-14       2016-11-14      2019-07-01   \n",
       "10261    3    Male     NaN      2017-09-07       2017-09-07      2019-07-01   \n",
       "10295    5  Female     NaN      2015-03-05       2015-03-05      2019-07-01   \n",
       "...    ...     ...     ...             ...              ...             ...   \n",
       "24804    4  Female     NaN      2016-03-05       2016-03-05      2019-07-01   \n",
       "24830    2    Male  2750.0      2018-07-26       2018-07-26      2019-07-01   \n",
       "24836    5    Male     NaN      2018-07-02       2018-07-02      2019-07-01   \n",
       "24874   15    Male     NaN      2015-11-02       2016-07-31      2016-01-01   \n",
       "24930    4    Male     NaN      2017-06-30       2017-11-07      2017-07-01   \n",
       "\n",
       "      LastPeriodFinish DateLastVisit  DaysWithoutFrequency  LifetimeValue  \\\n",
       "ID                                                                          \n",
       "10076       2019-12-31    2019-10-26                     5         708.20   \n",
       "10224       2018-12-31    2018-10-25                    17         836.60   \n",
       "10226       2019-12-31    2019-10-26                     5        1331.55   \n",
       "10261       2019-12-31    2019-10-19                    12        1066.40   \n",
       "10295       2019-12-31    2019-09-07                    54         286.30   \n",
       "...                ...           ...                   ...            ...   \n",
       "24804       2019-12-31    2019-10-26                     5        1656.30   \n",
       "24830       2019-12-31    2019-10-19                    12         773.32   \n",
       "24836       2019-12-31    2019-10-30                     1         654.60   \n",
       "24874       2016-12-31    2016-05-30                    62         353.60   \n",
       "24930       2017-12-31    2017-09-30                    38          77.60   \n",
       "\n",
       "       ...  OtherActivities  NumberOfFrequencies  AttendedClasses  \\\n",
       "ID     ...                                                          \n",
       "10076  ...              0.0                 64.0               64   \n",
       "10224  ...              0.0                107.0               91   \n",
       "10226  ...              0.0                 65.0               47   \n",
       "10261  ...              0.0                 78.0               62   \n",
       "10295  ...              0.0                 15.0                7   \n",
       "...    ...              ...                  ...              ...   \n",
       "24804  ...              0.0                 95.0               88   \n",
       "24830  ...              0.0                 27.0               20   \n",
       "24836  ...              0.0                 20.0               20   \n",
       "24874  ...              0.0                 20.0               17   \n",
       "24930  ...              0.0                  5.0                5   \n",
       "\n",
       "       AllowedWeeklyVisitsBySLA  AllowedNumberOfVisitsBySLA  \\\n",
       "ID                                                            \n",
       "10076                       2.0                       17.42   \n",
       "10224                       2.0                       11.72   \n",
       "10226                       1.0                        8.71   \n",
       "10261                       2.0                       17.42   \n",
       "10295                       1.0                        3.14   \n",
       "...                         ...                         ...   \n",
       "24804                       2.0                        9.72   \n",
       "24830                       2.0                       17.42   \n",
       "24836                       2.0                       15.42   \n",
       "24874                       1.0                        8.71   \n",
       "24930                       2.0                       17.42   \n",
       "\n",
       "       RealNumberOfVisits  NumberOfRenewals  HasReferences  \\\n",
       "ID                                                           \n",
       "10076                   6                 2            0.0   \n",
       "10224                   6                 3            0.0   \n",
       "10226                   4                 3            0.0   \n",
       "10261                   5                 2            0.0   \n",
       "10295                   0                 5            0.0   \n",
       "...                   ...               ...            ...   \n",
       "24804                   3                 4            0.0   \n",
       "24830                   8                 2            0.0   \n",
       "24836                   9                 2            0.0   \n",
       "24874                   0                 0            0.0   \n",
       "24930                   7                 1            0.0   \n",
       "\n",
       "       NumberOfReferences  Dropout  \n",
       "ID                                  \n",
       "10076                   0        0  \n",
       "10224                   0        1  \n",
       "10226                   0        0  \n",
       "10261                   0        0  \n",
       "10295                   0        0  \n",
       "...                   ...      ...  \n",
       "24804                   0        0  \n",
       "24830                   0        0  \n",
       "24836                   0        0  \n",
       "24874                   0        1  \n",
       "24930                   0        1  \n",
       "\n",
       "[360 rows x 30 columns]"
      ]
     },
     "execution_count": 16,
     "metadata": {},
     "output_type": "execute_result"
    }
   ],
   "source": [
    "data[data['Age']<16][data['Income']!=0]"
   ]
  },
  {
   "cell_type": "markdown",
   "metadata": {},
   "source": [
    "There are 360 entries that need to have income set as 0:"
   ]
  },
  {
   "cell_type": "code",
   "execution_count": 17,
   "metadata": {},
   "outputs": [],
   "source": [
    "data.loc[data[\"Age\"] < 16 , \"Income\"] = 0"
   ]
  },
  {
   "cell_type": "markdown",
   "metadata": {},
   "source": [
    "#### Gender:"
   ]
  },
  {
   "cell_type": "code",
   "execution_count": 18,
   "metadata": {},
   "outputs": [
    {
     "data": {
      "text/plain": [
       "array(['Female', 'Male'], dtype=object)"
      ]
     },
     "execution_count": 18,
     "metadata": {},
     "output_type": "execute_result"
    }
   ],
   "source": [
    "data['Gender'].unique()"
   ]
  },
  {
   "cell_type": "markdown",
   "metadata": {},
   "source": [
    "Values for `Gender` are normal."
   ]
  },
  {
   "cell_type": "markdown",
   "metadata": {},
   "source": [
    "#### EnrollmentStart / EnrollmentFinish / LastPeriodStart / LastPeriodFinish / DateLastVisit:"
   ]
  },
  {
   "cell_type": "markdown",
   "metadata": {},
   "source": [
    "Dates should be DateTime format:"
   ]
  },
  {
   "cell_type": "code",
   "execution_count": 19,
   "metadata": {},
   "outputs": [],
   "source": [
    "data['EnrollmentStart'] = pd.to_datetime(data['EnrollmentStart'])\n",
    "data['EnrollmentFinish'] = pd.to_datetime(data['EnrollmentFinish'])\n",
    "\n",
    "data['LastPeriodStart'] = pd.to_datetime(data['LastPeriodStart'])\n",
    "data['LastPeriodFinish'] = pd.to_datetime(data['LastPeriodFinish'])\n",
    "\n",
    "data['DateLastVisit'] = pd.to_datetime(data['DateLastVisit'])"
   ]
  },
  {
   "cell_type": "markdown",
   "metadata": {},
   "source": [
    "Some entries have enrollment start equal to enrollment finish:"
   ]
  },
  {
   "cell_type": "code",
   "execution_count": 20,
   "metadata": {},
   "outputs": [
    {
     "data": {
      "text/plain": [
       "Dropout\n",
       "0    2422\n",
       "Name: count, dtype: int64"
      ]
     },
     "execution_count": 20,
     "metadata": {},
     "output_type": "execute_result"
    }
   ],
   "source": [
    "data[data['EnrollmentStart'] == data['EnrollmentFinish']]['Dropout'].value_counts()"
   ]
  },
  {
   "cell_type": "markdown",
   "metadata": {},
   "source": [
    "All clients in this situation have 'Dropout' status set to 0."
   ]
  },
  {
   "cell_type": "code",
   "execution_count": 21,
   "metadata": {},
   "outputs": [
    {
     "data": {
      "text/plain": [
       "LastPeriodFinish\n",
       "2019-12-31    2038\n",
       "2019-06-30     186\n",
       "2018-12-31     117\n",
       "2017-12-31      22\n",
       "2016-12-31      20\n",
       "2018-06-30      20\n",
       "2017-06-30       9\n",
       "2016-06-30       5\n",
       "2015-06-30       3\n",
       "2015-12-31       2\n",
       "Name: count, dtype: int64"
      ]
     },
     "execution_count": 21,
     "metadata": {},
     "output_type": "execute_result"
    }
   ],
   "source": [
    "data[data['EnrollmentStart'] == data['EnrollmentFinish']]['LastPeriodFinish'].value_counts()"
   ]
  },
  {
   "cell_type": "markdown",
   "metadata": {},
   "source": [
    "Most cases seem to be of clients with current active contracts (Finishing on '2019-12-31'). \\\n",
    "We need to take a deeper look at other cases:"
   ]
  },
  {
   "cell_type": "markdown",
   "metadata": {},
   "source": [
    "#### Members who have not been active in current Period (from 2019-07-01 untill 2019-12-31):"
   ]
  },
  {
   "cell_type": "markdown",
   "metadata": {},
   "source": [
    "Checking clients who have not been to the facility in the current period:"
   ]
  },
  {
   "cell_type": "code",
   "execution_count": 22,
   "metadata": {},
   "outputs": [
    {
     "data": {
      "text/plain": [
       "Dropout\n",
       "1    11335\n",
       "0      324\n",
       "Name: count, dtype: int64"
      ]
     },
     "execution_count": 22,
     "metadata": {},
     "output_type": "execute_result"
    }
   ],
   "source": [
    "data.loc[data['DateLastVisit']< '2019-06-30', 'Dropout'].value_counts()"
   ]
  },
  {
   "cell_type": "code",
   "execution_count": 23,
   "metadata": {},
   "outputs": [
    {
     "name": "stderr",
     "output_type": "stream",
     "text": [
      "/var/folders/x6/c7bgz3zn0hg_kdmljrfw7k_m0000gn/T/ipykernel_19479/30699012.py:1: UserWarning: Boolean Series key will be reindexed to match DataFrame index.\n",
      "  data[data['DateLastVisit']< '2019-06-30'].loc[data['Dropout']== 0][data['EnrollmentFinish'] != data['EnrollmentStart']]\n"
     ]
    },
    {
     "data": {
      "text/html": [
       "<div>\n",
       "<style scoped>\n",
       "    .dataframe tbody tr th:only-of-type {\n",
       "        vertical-align: middle;\n",
       "    }\n",
       "\n",
       "    .dataframe tbody tr th {\n",
       "        vertical-align: top;\n",
       "    }\n",
       "\n",
       "    .dataframe thead th {\n",
       "        text-align: right;\n",
       "    }\n",
       "</style>\n",
       "<table border=\"1\" class=\"dataframe\">\n",
       "  <thead>\n",
       "    <tr style=\"text-align: right;\">\n",
       "      <th></th>\n",
       "      <th>Age</th>\n",
       "      <th>Gender</th>\n",
       "      <th>Income</th>\n",
       "      <th>EnrollmentStart</th>\n",
       "      <th>EnrollmentFinish</th>\n",
       "      <th>LastPeriodStart</th>\n",
       "      <th>LastPeriodFinish</th>\n",
       "      <th>DateLastVisit</th>\n",
       "      <th>DaysWithoutFrequency</th>\n",
       "      <th>LifetimeValue</th>\n",
       "      <th>...</th>\n",
       "      <th>OtherActivities</th>\n",
       "      <th>NumberOfFrequencies</th>\n",
       "      <th>AttendedClasses</th>\n",
       "      <th>AllowedWeeklyVisitsBySLA</th>\n",
       "      <th>AllowedNumberOfVisitsBySLA</th>\n",
       "      <th>RealNumberOfVisits</th>\n",
       "      <th>NumberOfRenewals</th>\n",
       "      <th>HasReferences</th>\n",
       "      <th>NumberOfReferences</th>\n",
       "      <th>Dropout</th>\n",
       "    </tr>\n",
       "    <tr>\n",
       "      <th>ID</th>\n",
       "      <th></th>\n",
       "      <th></th>\n",
       "      <th></th>\n",
       "      <th></th>\n",
       "      <th></th>\n",
       "      <th></th>\n",
       "      <th></th>\n",
       "      <th></th>\n",
       "      <th></th>\n",
       "      <th></th>\n",
       "      <th></th>\n",
       "      <th></th>\n",
       "      <th></th>\n",
       "      <th></th>\n",
       "      <th></th>\n",
       "      <th></th>\n",
       "      <th></th>\n",
       "      <th></th>\n",
       "      <th></th>\n",
       "      <th></th>\n",
       "      <th></th>\n",
       "    </tr>\n",
       "  </thead>\n",
       "  <tbody>\n",
       "  </tbody>\n",
       "</table>\n",
       "<p>0 rows × 30 columns</p>\n",
       "</div>"
      ],
      "text/plain": [
       "Empty DataFrame\n",
       "Columns: [Age, Gender, Income, EnrollmentStart, EnrollmentFinish, LastPeriodStart, LastPeriodFinish, DateLastVisit, DaysWithoutFrequency, LifetimeValue, UseByTime, AthleticsActivities, WaterActivities, FitnessActivities, DanceActivities, TeamActivities, RacketActivities, CombatActivities, NatureActivities, SpecialActivities, OtherActivities, NumberOfFrequencies, AttendedClasses, AllowedWeeklyVisitsBySLA, AllowedNumberOfVisitsBySLA, RealNumberOfVisits, NumberOfRenewals, HasReferences, NumberOfReferences, Dropout]\n",
       "Index: []\n",
       "\n",
       "[0 rows x 30 columns]"
      ]
     },
     "execution_count": 23,
     "metadata": {},
     "output_type": "execute_result"
    }
   ],
   "source": [
    "data[data['DateLastVisit']< '2019-06-30'].loc[data['Dropout']== 0][data['EnrollmentFinish'] != data['EnrollmentStart']]"
   ]
  },
  {
   "cell_type": "markdown",
   "metadata": {},
   "source": [
    "The people who had DateLastVisit < '2019-06-30' and don't have a Dropout all have have 'EnrollmentStart'= 'EnrolmentFinish', which tells us that:\n",
    "- these people have dropped out but have not been added to the system as dropouts.\n",
    "- Their contract is still active as they've been paying, but not comming to the gym."
   ]
  },
  {
   "cell_type": "markdown",
   "metadata": {},
   "source": [
    "How can we deal with these inconsistencies?\n",
    "1) If `DateLastVisit` matches the Last Period of activity (not current Period), clients are considered dropouts (all date are correct but Enrollment Dates) and have `EnrollmentFinish` on `DateLastVisit`.\n",
    "2) Other clients are considered active: `LastPeriodFinish`should be '2019-12-31' and `EnrollmentFinish` on '2019-10-31'.\n"
   ]
  },
  {
   "cell_type": "markdown",
   "metadata": {},
   "source": [
    "##### Drop Outs:"
   ]
  },
  {
   "cell_type": "markdown",
   "metadata": {},
   "source": [
    "We create a mask to select clients who follow condition **1** and should be considered dropouts:"
   ]
  },
  {
   "cell_type": "code",
   "execution_count": 24,
   "metadata": {},
   "outputs": [],
   "source": [
    "drop_mask = (\n",
    "    (data['EnrollmentStart'] == data['EnrollmentFinish']) &\n",
    "    (data['LastPeriodStart']<= data['DateLastVisit']) &\n",
    "    (data['DateLastVisit']<= data['LastPeriodFinish']) &\n",
    "    (data['DateLastVisit'] < pd.Timestamp(dt.date(2019,6,30)))\n",
    ")\n",
    "index_dropout = data.index[drop_mask].tolist()"
   ]
  },
  {
   "cell_type": "markdown",
   "metadata": {},
   "source": [
    "`Dropout` should be set to 1 and `EnrollmentFinish` to the respective `DateLastVisit`"
   ]
  },
  {
   "cell_type": "code",
   "execution_count": 25,
   "metadata": {},
   "outputs": [],
   "source": [
    "data.loc[index_dropout, 'Dropout']=1"
   ]
  },
  {
   "cell_type": "code",
   "execution_count": 26,
   "metadata": {},
   "outputs": [],
   "source": [
    "data.loc[index_dropout, 'EnrollmentFinish'] = data.loc[index_dropout, 'DateLastVisit']"
   ]
  },
  {
   "cell_type": "markdown",
   "metadata": {},
   "source": [
    "##### Non - Drop Out:"
   ]
  },
  {
   "cell_type": "markdown",
   "metadata": {},
   "source": [
    "Looking at the non - dropout clients, instances where `LastPeriodFinish` is not '2019-12-31' will be considered errors and removed, as they contain too many discrepencies to be considered viable."
   ]
  },
  {
   "cell_type": "code",
   "execution_count": 27,
   "metadata": {},
   "outputs": [],
   "source": [
    "mask = ( \n",
    "    (data['EnrollmentStart'] == data['EnrollmentFinish']) &\n",
    "    (data['DateLastVisit']< '2019-06-30') \n",
    ")"
   ]
  },
  {
   "cell_type": "code",
   "execution_count": 28,
   "metadata": {},
   "outputs": [
    {
     "data": {
      "text/plain": [
       "LastPeriodFinish\n",
       "2019-12-31    81\n",
       "2019-06-30     4\n",
       "2018-12-31     4\n",
       "2016-12-31     1\n",
       "2018-06-30     1\n",
       "Name: count, dtype: int64"
      ]
     },
     "execution_count": 28,
     "metadata": {},
     "output_type": "execute_result"
    }
   ],
   "source": [
    "data[mask]['LastPeriodFinish'].value_counts()"
   ]
  },
  {
   "cell_type": "code",
   "execution_count": 29,
   "metadata": {},
   "outputs": [],
   "source": [
    "drop_mask = ( \n",
    "    (data['EnrollmentStart'] == data['EnrollmentFinish']) &\n",
    "    (data['DateLastVisit']< '2019-06-30') &\n",
    "    (data['LastPeriodFinish']!= pd.Timestamp(dt.date(2019,12,31)))\n",
    ")\n",
    "index_dropout = data.index[drop_mask].tolist()"
   ]
  },
  {
   "cell_type": "code",
   "execution_count": 30,
   "metadata": {},
   "outputs": [],
   "source": [
    "data.drop(index_dropout, inplace = True)"
   ]
  },
  {
   "cell_type": "markdown",
   "metadata": {},
   "source": [
    "All other instances that have `EnrollmentStart` equal to `EnrollmentFinish` are considered active members:\\\n",
    "`LastPeriodFinish`should be '2019-12-31' and `EnrollmentFinish` on '2019-10-31'"
   ]
  },
  {
   "cell_type": "code",
   "execution_count": 31,
   "metadata": {},
   "outputs": [],
   "source": [
    "data.loc[data[data['EnrollmentFinish'] == data['EnrollmentStart']].index.tolist(), 'LastPeriodFinish']='2019-12-31'"
   ]
  },
  {
   "cell_type": "code",
   "execution_count": 32,
   "metadata": {},
   "outputs": [],
   "source": [
    "data.loc[data[data['EnrollmentFinish'] == data['EnrollmentStart']].index.tolist(), 'EnrollmentFinish']= '2019-10-31'"
   ]
  },
  {
   "cell_type": "markdown",
   "metadata": {},
   "source": [
    "Clients who have a LastPeriod that desn't match neither the:\n",
    "- DateLastVisit: Last time client was at the facility\n",
    "- EnrollmentFinish: End of contract\n",
    "\n",
    "Are all dropouts that show inconsistencies in the date type variables:"
   ]
  },
  {
   "cell_type": "code",
   "execution_count": 33,
   "metadata": {},
   "outputs": [],
   "source": [
    "mask = (\n",
    "    ~((data['LastPeriodStart'] <= data['EnrollmentFinish']) & (data['EnrollmentFinish'] <= data['LastPeriodFinish'])) &\n",
    "    ~((data['LastPeriodStart'] <= data['DateLastVisit']) & (data['DateLastVisit'] <= data['LastPeriodFinish']))\n",
    ")"
   ]
  },
  {
   "cell_type": "code",
   "execution_count": 34,
   "metadata": {},
   "outputs": [
    {
     "data": {
      "text/plain": [
       "Dropout\n",
       "1    128\n",
       "Name: count, dtype: int64"
      ]
     },
     "execution_count": 34,
     "metadata": {},
     "output_type": "execute_result"
    }
   ],
   "source": [
    "data.loc[data.index[mask].tolist()].Dropout.value_counts()"
   ]
  },
  {
   "cell_type": "markdown",
   "metadata": {},
   "source": [
    "Depending on clustering results these clients can either be:\n",
    "- Dropped totally from dataset as they represent 0.86% of entries;\n",
    "- Left as they are;"
   ]
  },
  {
   "cell_type": "code",
   "execution_count": 35,
   "metadata": {},
   "outputs": [],
   "source": [
    "#data.drop(data.index[mask].tolist(), inplace = True)"
   ]
  },
  {
   "cell_type": "markdown",
   "metadata": {},
   "source": [
    "<div class=\"alert alert-block alert-success\">\n",
    "\n",
    "<a class=\"anchor\" id=\"4th-bullet\">    </a>\n",
    "## 4. Data Visualization \n",
    "</div>"
   ]
  },
  {
   "cell_type": "markdown",
   "metadata": {},
   "source": [
    "Visualizing our data can help us understand more about the distribution of the featues and find possible incoherences."
   ]
  },
  {
   "cell_type": "markdown",
   "metadata": {},
   "source": [
    "We start by separating metric, non-metric and date type features:"
   ]
  },
  {
   "cell_type": "code",
   "execution_count": 37,
   "metadata": {},
   "outputs": [],
   "source": [
    "non_metric_features = ['Age','Income','DaysWithoutFrequency','LifetimeValue','NumberOfFrequencies', 'AttendedClasses', 'AllowedWeeklyVisitsBySLA', 'AllowedNumberOfVisitsBySLA','RealNumberOfVisits','NumberOfRenewals','NumberOfReferences']\n",
    "date_features = ['EnrollmentStart','EnrollmentFinish','LastPeriodStart','LastPeriodFinish','DateLastVisit']\n",
    "\n",
    "metric_features = data.columns.drop(non_metric_features+ date_features).to_list()"
   ]
  },
  {
   "cell_type": "code",
   "execution_count": 1,
   "metadata": {},
   "outputs": [],
   "source": [
    "## as much seaborn as possible"
   ]
  },
  {
   "cell_type": "markdown",
   "metadata": {},
   "source": [
    "- Data Visualizations\n",
    "- Missing Values\n",
    "- Outliers\n",
    "- Feature Engineering\n",
    "- New Variables"
   ]
  }
 ],
 "metadata": {
  "kernelspec": {
   "display_name": "DM2324",
   "language": "python",
   "name": "python3"
  },
  "language_info": {
   "codemirror_mode": {
    "name": "ipython",
    "version": 3
   },
   "file_extension": ".py",
   "mimetype": "text/x-python",
   "name": "python",
   "nbconvert_exporter": "python",
   "pygments_lexer": "ipython3",
   "version": "3.9.6"
  }
 },
 "nbformat": 4,
 "nbformat_minor": 2
}
